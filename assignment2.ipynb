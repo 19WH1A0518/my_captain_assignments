{
  "nbformat": 4,
  "nbformat_minor": 0,
  "metadata": {
    "colab": {
      "name": "assignment2.ipynb",
      "provenance": []
    },
    "kernelspec": {
      "name": "python3",
      "display_name": "Python 3"
    },
    "language_info": {
      "name": "python"
    }
  },
  "cells": [
    {
      "cell_type": "code",
      "execution_count": null,
      "metadata": {
        "id": "FoWQj0Jh4G3_"
      },
      "outputs": [],
      "source": [
        ""
      ]
    },
    {
      "cell_type": "markdown",
      "source": [
        "#Write a Python program to print all positive numbers in a range.\n",
        "\n"
      ],
      "metadata": {
        "id": "5aU__EcC4Ksy"
      }
    },
    {
      "cell_type": "code",
      "source": [
        "li = [12, -7, 5, 64, -14] \n",
        "for i in li:   \n",
        "    if i >= 0:\n",
        "       print(i)"
      ],
      "metadata": {
        "colab": {
          "base_uri": "https://localhost:8080/"
        },
        "id": "JSD82TS-4Pz3",
        "outputId": "c4785a3a-c940-4892-e051-d355ddb4a72e"
      },
      "execution_count": 1,
      "outputs": [
        {
          "output_type": "stream",
          "name": "stdout",
          "text": [
            "12\n",
            "5\n",
            "64\n"
          ]
        }
      ]
    },
    {
      "cell_type": "markdown",
      "source": [
        "#this is the second problem in the assignment"
      ],
      "metadata": {
        "id": "R3JPQoR14cSs"
      }
    },
    {
      "cell_type": "code",
      "source": [
        "li = [12, 14, -95, 3]\n",
        "for i in li:\n",
        "  if i >= 0:\n",
        "    print(i)"
      ],
      "metadata": {
        "colab": {
          "base_uri": "https://localhost:8080/"
        },
        "id": "__B1coKx4hUU",
        "outputId": "43e1df3c-0249-46be-cda2-aff12e2fc59d"
      },
      "execution_count": 2,
      "outputs": [
        {
          "output_type": "stream",
          "name": "stdout",
          "text": [
            "12\n",
            "14\n",
            "3\n"
          ]
        }
      ]
    },
    {
      "cell_type": "code",
      "source": [
        ""
      ],
      "metadata": {
        "id": "-ryeMk7_4l0E"
      },
      "execution_count": null,
      "outputs": []
    }
  ]
}